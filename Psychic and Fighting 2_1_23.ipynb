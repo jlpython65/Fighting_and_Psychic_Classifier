{
 "cells": [
  {
   "cell_type": "markdown",
   "id": "b7f925ce",
   "metadata": {},
   "source": [
    "The objective is to have the model recognize a typing based off a pokemon's attack and special attack stats. For this project I chose Fighting types and psychic types. If the Pokemon is designed to be a  humanoid that knows martial arts, it will utilize its fists (attack stat) instead of energy beams (special attack) befitting of the physically frail psychic types. "
   ]
  },
  {
   "cell_type": "markdown",
   "id": "e6e400f5",
   "metadata": {},
   "source": [
    "First I import all of the data preperation, visualizations, models, and evaluation tools along with the dataframe. I also dropped the legendary pokemon becuase they're usually outliers in terms of their stats."
   ]
  },
  {
   "cell_type": "code",
   "execution_count": 69,
   "id": "71c108cc",
   "metadata": {
    "collapsed": true
   },
   "outputs": [
    {
     "data": {
      "text/html": [
       "<div>\n",
       "<style scoped>\n",
       "    .dataframe tbody tr th:only-of-type {\n",
       "        vertical-align: middle;\n",
       "    }\n",
       "\n",
       "    .dataframe tbody tr th {\n",
       "        vertical-align: top;\n",
       "    }\n",
       "\n",
       "    .dataframe thead th {\n",
       "        text-align: right;\n",
       "    }\n",
       "</style>\n",
       "<table border=\"1\" class=\"dataframe\">\n",
       "  <thead>\n",
       "    <tr style=\"text-align: right;\">\n",
       "      <th></th>\n",
       "      <th>#</th>\n",
       "      <th>Name</th>\n",
       "      <th>Type 1</th>\n",
       "      <th>Type 2</th>\n",
       "      <th>Total</th>\n",
       "      <th>HP</th>\n",
       "      <th>Attack</th>\n",
       "      <th>Defense</th>\n",
       "      <th>Sp. Atk</th>\n",
       "      <th>Sp. Def</th>\n",
       "      <th>Speed</th>\n",
       "      <th>Generation</th>\n",
       "      <th>Legendary</th>\n",
       "    </tr>\n",
       "  </thead>\n",
       "  <tbody>\n",
       "    <tr>\n",
       "      <th>0</th>\n",
       "      <td>1</td>\n",
       "      <td>Bulbasaur</td>\n",
       "      <td>Grass</td>\n",
       "      <td>Poison</td>\n",
       "      <td>318</td>\n",
       "      <td>45</td>\n",
       "      <td>49</td>\n",
       "      <td>49</td>\n",
       "      <td>65</td>\n",
       "      <td>65</td>\n",
       "      <td>45</td>\n",
       "      <td>1</td>\n",
       "      <td>False</td>\n",
       "    </tr>\n",
       "    <tr>\n",
       "      <th>1</th>\n",
       "      <td>2</td>\n",
       "      <td>Ivysaur</td>\n",
       "      <td>Grass</td>\n",
       "      <td>Poison</td>\n",
       "      <td>405</td>\n",
       "      <td>60</td>\n",
       "      <td>62</td>\n",
       "      <td>63</td>\n",
       "      <td>80</td>\n",
       "      <td>80</td>\n",
       "      <td>60</td>\n",
       "      <td>1</td>\n",
       "      <td>False</td>\n",
       "    </tr>\n",
       "    <tr>\n",
       "      <th>2</th>\n",
       "      <td>3</td>\n",
       "      <td>Venusaur</td>\n",
       "      <td>Grass</td>\n",
       "      <td>Poison</td>\n",
       "      <td>525</td>\n",
       "      <td>80</td>\n",
       "      <td>82</td>\n",
       "      <td>83</td>\n",
       "      <td>100</td>\n",
       "      <td>100</td>\n",
       "      <td>80</td>\n",
       "      <td>1</td>\n",
       "      <td>False</td>\n",
       "    </tr>\n",
       "    <tr>\n",
       "      <th>3</th>\n",
       "      <td>3</td>\n",
       "      <td>VenusaurMega Venusaur</td>\n",
       "      <td>Grass</td>\n",
       "      <td>Poison</td>\n",
       "      <td>625</td>\n",
       "      <td>80</td>\n",
       "      <td>100</td>\n",
       "      <td>123</td>\n",
       "      <td>122</td>\n",
       "      <td>120</td>\n",
       "      <td>80</td>\n",
       "      <td>1</td>\n",
       "      <td>False</td>\n",
       "    </tr>\n",
       "    <tr>\n",
       "      <th>4</th>\n",
       "      <td>4</td>\n",
       "      <td>Charmander</td>\n",
       "      <td>Fire</td>\n",
       "      <td>NaN</td>\n",
       "      <td>309</td>\n",
       "      <td>39</td>\n",
       "      <td>52</td>\n",
       "      <td>43</td>\n",
       "      <td>60</td>\n",
       "      <td>50</td>\n",
       "      <td>65</td>\n",
       "      <td>1</td>\n",
       "      <td>False</td>\n",
       "    </tr>\n",
       "    <tr>\n",
       "      <th>...</th>\n",
       "      <td>...</td>\n",
       "      <td>...</td>\n",
       "      <td>...</td>\n",
       "      <td>...</td>\n",
       "      <td>...</td>\n",
       "      <td>...</td>\n",
       "      <td>...</td>\n",
       "      <td>...</td>\n",
       "      <td>...</td>\n",
       "      <td>...</td>\n",
       "      <td>...</td>\n",
       "      <td>...</td>\n",
       "      <td>...</td>\n",
       "    </tr>\n",
       "    <tr>\n",
       "      <th>787</th>\n",
       "      <td>711</td>\n",
       "      <td>GourgeistSuper Size</td>\n",
       "      <td>Ghost</td>\n",
       "      <td>Grass</td>\n",
       "      <td>494</td>\n",
       "      <td>85</td>\n",
       "      <td>100</td>\n",
       "      <td>122</td>\n",
       "      <td>58</td>\n",
       "      <td>75</td>\n",
       "      <td>54</td>\n",
       "      <td>6</td>\n",
       "      <td>False</td>\n",
       "    </tr>\n",
       "    <tr>\n",
       "      <th>788</th>\n",
       "      <td>712</td>\n",
       "      <td>Bergmite</td>\n",
       "      <td>Ice</td>\n",
       "      <td>NaN</td>\n",
       "      <td>304</td>\n",
       "      <td>55</td>\n",
       "      <td>69</td>\n",
       "      <td>85</td>\n",
       "      <td>32</td>\n",
       "      <td>35</td>\n",
       "      <td>28</td>\n",
       "      <td>6</td>\n",
       "      <td>False</td>\n",
       "    </tr>\n",
       "    <tr>\n",
       "      <th>789</th>\n",
       "      <td>713</td>\n",
       "      <td>Avalugg</td>\n",
       "      <td>Ice</td>\n",
       "      <td>NaN</td>\n",
       "      <td>514</td>\n",
       "      <td>95</td>\n",
       "      <td>117</td>\n",
       "      <td>184</td>\n",
       "      <td>44</td>\n",
       "      <td>46</td>\n",
       "      <td>28</td>\n",
       "      <td>6</td>\n",
       "      <td>False</td>\n",
       "    </tr>\n",
       "    <tr>\n",
       "      <th>790</th>\n",
       "      <td>714</td>\n",
       "      <td>Noibat</td>\n",
       "      <td>Flying</td>\n",
       "      <td>Dragon</td>\n",
       "      <td>245</td>\n",
       "      <td>40</td>\n",
       "      <td>30</td>\n",
       "      <td>35</td>\n",
       "      <td>45</td>\n",
       "      <td>40</td>\n",
       "      <td>55</td>\n",
       "      <td>6</td>\n",
       "      <td>False</td>\n",
       "    </tr>\n",
       "    <tr>\n",
       "      <th>791</th>\n",
       "      <td>715</td>\n",
       "      <td>Noivern</td>\n",
       "      <td>Flying</td>\n",
       "      <td>Dragon</td>\n",
       "      <td>535</td>\n",
       "      <td>85</td>\n",
       "      <td>70</td>\n",
       "      <td>80</td>\n",
       "      <td>97</td>\n",
       "      <td>80</td>\n",
       "      <td>123</td>\n",
       "      <td>6</td>\n",
       "      <td>False</td>\n",
       "    </tr>\n",
       "  </tbody>\n",
       "</table>\n",
       "<p>735 rows × 13 columns</p>\n",
       "</div>"
      ],
      "text/plain": [
       "       #                   Name  Type 1  Type 2  Total  HP  Attack  Defense  \\\n",
       "0      1              Bulbasaur   Grass  Poison    318  45      49       49   \n",
       "1      2                Ivysaur   Grass  Poison    405  60      62       63   \n",
       "2      3               Venusaur   Grass  Poison    525  80      82       83   \n",
       "3      3  VenusaurMega Venusaur   Grass  Poison    625  80     100      123   \n",
       "4      4             Charmander    Fire     NaN    309  39      52       43   \n",
       "..   ...                    ...     ...     ...    ...  ..     ...      ...   \n",
       "787  711    GourgeistSuper Size   Ghost   Grass    494  85     100      122   \n",
       "788  712               Bergmite     Ice     NaN    304  55      69       85   \n",
       "789  713                Avalugg     Ice     NaN    514  95     117      184   \n",
       "790  714                 Noibat  Flying  Dragon    245  40      30       35   \n",
       "791  715                Noivern  Flying  Dragon    535  85      70       80   \n",
       "\n",
       "     Sp. Atk  Sp. Def  Speed  Generation  Legendary  \n",
       "0         65       65     45           1      False  \n",
       "1         80       80     60           1      False  \n",
       "2        100      100     80           1      False  \n",
       "3        122      120     80           1      False  \n",
       "4         60       50     65           1      False  \n",
       "..       ...      ...    ...         ...        ...  \n",
       "787       58       75     54           6      False  \n",
       "788       32       35     28           6      False  \n",
       "789       44       46     28           6      False  \n",
       "790       45       40     55           6      False  \n",
       "791       97       80    123           6      False  \n",
       "\n",
       "[735 rows x 13 columns]"
      ]
     },
     "execution_count": 69,
     "metadata": {},
     "output_type": "execute_result"
    }
   ],
   "source": [
    "\n",
    "import pandas as pd\n",
    "import sklearn as sk\n",
    "from matplotlib import pyplot\n",
    "import matplotlib\n",
    "\n",
    "from pandas import read_csv\n",
    "from pandas.plotting import scatter_matrix\n",
    "from matplotlib import pyplot\n",
    "from sklearn.model_selection import train_test_split\n",
    "from sklearn.model_selection import cross_val_score\n",
    "from sklearn.model_selection import StratifiedKFold\n",
    "from sklearn.metrics import classification_report\n",
    "from sklearn.metrics import confusion_matrix\n",
    "from sklearn.metrics import accuracy_score\n",
    "from sklearn.linear_model import LogisticRegression\n",
    "from sklearn.tree import DecisionTreeClassifier\n",
    "from sklearn.neighbors import KNeighborsClassifier\n",
    "from sklearn.discriminant_analysis import LinearDiscriminantAnalysis\n",
    "from sklearn.naive_bayes import GaussianNB\n",
    "from sklearn.svm import SVC\n",
    "import sklearn.model_selection\n",
    "\n",
    "\n",
    "df = pd.read_csv(r\"C:\\Users\\Jason Lee\\Downloads\\Pokemon.csv\")\n",
    "#Call the pokemon dataset and make a dataframe out of it\n",
    "df[\"Type 1\"].unique()\n",
    "\n",
    "df = df.drop(df[df[\"Legendary\"]==True].index)\n",
    "df"
   ]
  },
  {
   "cell_type": "markdown",
   "id": "52cf7653",
   "metadata": {
    "heading_collapsed": true
   },
   "source": [
    "# Data Preperation"
   ]
  },
  {
   "cell_type": "markdown",
   "id": "c7027a46",
   "metadata": {
    "hidden": true
   },
   "source": [
    "Now I need to drop all the other rows containing other pokemon types\n",
    "\n",
    "Dataset.drop drops the following ROWS if the following is true: if the row's type 1 catagory is not \"fighting\" or \"psychic\". Now I created a new dataframe that displays only fighting and psychic types.\n",
    "\n",
    "For this project, I'm not going to account for the \"Type 2\" column because that's the secondary typing which can influence the base stat thus confusing the model. "
   ]
  },
  {
   "cell_type": "code",
   "execution_count": 74,
   "id": "e2dc05f8",
   "metadata": {
    "collapsed": true,
    "hidden": true
   },
   "outputs": [
    {
     "name": "stdout",
     "output_type": "stream",
     "text": [
      "       #            Name    Type 1  Type 2  Total  HP  Attack  Defense  \\\n",
      "61    56          Mankey  Fighting     NaN    305  40      80       35   \n",
      "62    57        Primeape  Fighting     NaN    455  65     105       60   \n",
      "68    63            Abra   Psychic     NaN    310  25      20       15   \n",
      "69    64         Kadabra   Psychic     NaN    400  40      35       30   \n",
      "70    65        Alakazam   Psychic     NaN    500  55      50       45   \n",
      "..   ...             ...       ...     ...    ...  ..     ...      ...   \n",
      "743  675         Pangoro  Fighting    Dark    495  95     124       78   \n",
      "745  677          Espurr   Psychic     NaN    355  62      48       54   \n",
      "746  678    MeowsticMale   Psychic     NaN    466  74      48       76   \n",
      "747  678  MeowsticFemale   Psychic     NaN    466  74      48       76   \n",
      "771  701        Hawlucha  Fighting  Flying    500  78      92       75   \n",
      "\n",
      "     Sp. Atk  Sp. Def  Speed  Generation  Legendary  \n",
      "61        35       45     70           1      False  \n",
      "62        60       70     95           1      False  \n",
      "68       105       55     90           1      False  \n",
      "69       120       70    105           1      False  \n",
      "70       135       95    120           1      False  \n",
      "..       ...      ...    ...         ...        ...  \n",
      "743       69       71     58           6      False  \n",
      "745       63       60     68           6      False  \n",
      "746       83       81    104           6      False  \n",
      "747       83       81    104           6      False  \n",
      "771       74       63    118           6      False  \n",
      "\n",
      "[70 rows x 13 columns]\n",
      "Type 1\n",
      "Fighting    27\n",
      "Psychic     43\n",
      "dtype: int64\n"
     ]
    }
   ],
   "source": [
    "\n",
    "fighting_and_psychic_only = df.drop(df[\n",
    "    (df['Type 1'] != \"Fighting\")&\n",
    "    (df['Type 1'] != \"Psychic\")].index)\n",
    "\n",
    "print(fighting_and_psychic_only)\n",
    "\n",
    "\n",
    "print(fighting_and_psychic_only.groupby(\"Type 1\").size())\n",
    "\n",
    "\n"
   ]
  },
  {
   "cell_type": "markdown",
   "id": "96a5e3b5",
   "metadata": {
    "heading_collapsed": true
   },
   "source": [
    "# Data Visualization"
   ]
  },
  {
   "cell_type": "markdown",
   "id": "e4e1d767",
   "metadata": {
    "hidden": true
   },
   "source": [
    "\n"
   ]
  },
  {
   "cell_type": "markdown",
   "id": "49b98eda",
   "metadata": {
    "hidden": true
   },
   "source": [
    "I already play the games enough to know that psychic types have high special attack and low attack and vice-versa for fighting types. But to prove this I made some visualizations. \n",
    "The orange in the first histogram, for the fighting type dataframe, refers to its special attack which find itself pretty low on average. The orange on the 2nd histogram, for the psychic type dataframe is the psychic type's attack which is also low on average. "
   ]
  },
  {
   "cell_type": "code",
   "execution_count": 80,
   "id": "788c0e9f",
   "metadata": {
    "collapsed": true,
    "hidden": true
   },
   "outputs": [
    {
     "data": {
      "text/plain": [
       "<AxesSubplot: >"
      ]
     },
     "execution_count": 80,
     "metadata": {},
     "output_type": "execute_result"
    },
    {
     "data": {
      "image/png": "[encoded data removed]",
      "text/plain": [
       "<Figure size 640x480 with 1 Axes>"
      ]
     },
     "metadata": {},
     "output_type": "display_data"
    }
   ],
   "source": [
    "fighting_only = fighting_and_psychic_only[fighting_and_psychic_only[\"Type 1\"] == \"Fighting\"]\n",
    "fighting_only[\"Attack\"].hist()\n",
    "fighting_only[\"Sp. Atk\"].hist()"
   ]
  },
  {
   "cell_type": "code",
   "execution_count": 78,
   "id": "24897744",
   "metadata": {
    "collapsed": true,
    "hidden": true
   },
   "outputs": [
    {
     "data": {
      "text/plain": [
       "<AxesSubplot: >"
      ]
     },
     "execution_count": 78,
     "metadata": {},
     "output_type": "execute_result"
    },
    {
     "data": {
      "image/png": "[encoded data removed]",
      "text/plain": [
       "<Figure size 640x480 with 1 Axes>"
      ]
     },
     "metadata": {},
     "output_type": "display_data"
    }
   ],
   "source": [
    "psychic_only = fighting_and_psychic_only[fighting_and_psychic_only[\"Type 1\"] == \"Psychic\"]\n",
    "\n",
    "psychic_only[\"Sp. Atk\"].hist()\n",
    "psychic_only[\"Attack\"].hist()"
   ]
  },
  {
   "cell_type": "markdown",
   "id": "7def1a5c",
   "metadata": {
    "heading_collapsed": true
   },
   "source": [
    "# Modeling"
   ]
  },
  {
   "cell_type": "markdown",
   "id": "97c628e4",
   "metadata": {
    "hidden": true
   },
   "source": [
    "I'll be using supervised models so a label set (the typing of the pokemon) is needed and the features. The most important feature, according to the data visualization, are the base stats mainly attack and special attack. \n",
    "\n",
    "I slice the array according to the location of the base stat columns and the primary typing column."
   ]
  },
  {
   "cell_type": "code",
   "execution_count": 45,
   "id": "3ab811a9",
   "metadata": {
    "collapsed": true,
    "hidden": true
   },
   "outputs": [
    {
     "name": "stdout",
     "output_type": "stream",
     "text": [
      "[[305 40 80 35 35]\n",
      " [455 65 105 60 60]\n",
      " [310 25 20 15 105]\n",
      " [400 40 35 30 120]\n",
      " [500 55 50 45 135]\n",
      " [590 55 50 65 175]\n",
      " [305 70 80 50 35]\n",
      " [405 80 100 70 50]\n",
      " [505 90 130 80 65]\n",
      " [328 60 48 45 43]\n",
      " [483 85 73 70 73]\n",
      " [455 50 120 53 35]\n",
      " [455 50 105 79 35]\n",
      " [460 40 45 65 100]\n",
      " [680 106 110 90 154]\n",
      " [780 106 190 100 154]\n",
      " [780 106 150 70 194]\n",
      " [600 100 100 100 100]\n",
      " [320 40 50 45 70]\n",
      " [470 65 75 70 95]\n",
      " [525 65 65 60 130]\n",
      " [336 48 72 48 72]\n",
      " [405 190 33 58 33]\n",
      " [210 35 35 35 35]\n",
      " [455 50 95 95 35]\n",
      " [680 106 90 130 90]\n",
      " [600 100 100 100 100]\n",
      " [198 28 25 25 45]\n",
      " [278 38 35 35 65]\n",
      " [518 68 65 65 125]\n",
      " [618 68 85 65 165]\n",
      " [237 72 60 30 20]\n",
      " [474 144 120 60 40]\n",
      " [280 30 40 55 40]\n",
      " [410 60 60 75 60]\n",
      " [510 60 100 85 80]\n",
      " [330 60 25 35 70]\n",
      " [470 80 45 65 90]\n",
      " [425 65 50 70 95]\n",
      " [260 95 23 48 23]\n",
      " [600 50 150 50 150]\n",
      " [600 50 180 20 180]\n",
      " [600 50 70 160 70]\n",
      " [600 50 95 90 95]\n",
      " [285 45 30 50 65]\n",
      " [310 20 25 45 70]\n",
      " [285 40 70 40 35]\n",
      " [525 70 110 70 115]\n",
      " [625 70 145 88 140]\n",
      " [518 68 125 65 65]\n",
      " [618 68 165 95 65]\n",
      " [580 75 75 130 75]\n",
      " [580 80 105 105 105]\n",
      " [580 75 125 70 125]\n",
      " [600 120 70 120 75]\n",
      " [600 100 100 100 100]\n",
      " [292 76 25 45 67]\n",
      " [487 116 55 85 107]\n",
      " [313 55 45 43 55]\n",
      " [425 67 57 55 77]\n",
      " [305 75 80 55 25]\n",
      " [405 85 105 85 40]\n",
      " [505 105 140 95 55]\n",
      " [465 120 100 85 30]\n",
      " [465 75 125 75 30]\n",
      " [490 72 58 80 103]\n",
      " [290 45 30 50 55]\n",
      " [390 60 45 70 75]\n",
      " [490 70 55 95 95]\n",
      " [290 45 30 40 105]\n",
      " [370 65 40 50 125]\n",
      " [490 110 65 75 125]\n",
      " [335 55 55 55 85]\n",
      " [485 75 75 75 125]\n",
      " [350 45 85 50 55]\n",
      " [510 65 125 60 95]\n",
      " [348 67 82 62 46]\n",
      " [495 95 124 78 69]\n",
      " [355 62 48 54 63]\n",
      " [466 74 48 76 83]\n",
      " [466 74 48 76 83]\n",
      " [500 78 92 75 74]\n",
      " [600 80 110 60 150]\n",
      " [680 80 160 60 170]]\n",
      "['Fighting' 'Fighting' 'Psychic' 'Psychic' 'Psychic' 'Psychic' 'Fighting'\n",
      " 'Fighting' 'Fighting' 'Psychic' 'Psychic' 'Fighting' 'Fighting' 'Psychic'\n",
      " 'Psychic' 'Psychic' 'Psychic' 'Psychic' 'Psychic' 'Psychic' 'Psychic'\n",
      " 'Psychic' 'Psychic' 'Fighting' 'Fighting' 'Psychic' 'Psychic' 'Psychic'\n",
      " 'Psychic' 'Psychic' 'Psychic' 'Fighting' 'Fighting' 'Fighting' 'Fighting'\n",
      " 'Fighting' 'Psychic' 'Psychic' 'Psychic' 'Psychic' 'Psychic' 'Psychic'\n",
      " 'Psychic' 'Psychic' 'Psychic' 'Psychic' 'Fighting' 'Fighting' 'Fighting'\n",
      " 'Psychic' 'Psychic' 'Psychic' 'Psychic' 'Psychic' 'Psychic' 'Psychic'\n",
      " 'Psychic' 'Psychic' 'Psychic' 'Psychic' 'Fighting' 'Fighting' 'Fighting'\n",
      " 'Fighting' 'Fighting' 'Psychic' 'Psychic' 'Psychic' 'Psychic' 'Psychic'\n",
      " 'Psychic' 'Psychic' 'Psychic' 'Psychic' 'Fighting' 'Fighting' 'Fighting'\n",
      " 'Fighting' 'Psychic' 'Psychic' 'Psychic' 'Fighting' 'Psychic' 'Psychic']\n"
     ]
    }
   ],
   "source": [
    "array = fighting_and_psychic_only.values\n",
    "\n",
    "X = array[:,4:9]#Stats\n",
    "print(X)\n",
    "y = array[:,2] #typing (validation set)\n",
    "\n",
    "print(y)\n",
    "\n",
    "\n",
    "#\n"
   ]
  },
  {
   "cell_type": "markdown",
   "id": "30970103",
   "metadata": {
    "hidden": true
   },
   "source": [
    "The data is prepared for the models and the visualizations helped me select the most important features. Now I can begin training.\n",
    "\n",
    "The array and the labels are split for training and testing. I fit the models to the array with a loop and then VALIDATE them through cross validation. "
   ]
  },
  {
   "cell_type": "code",
   "execution_count": 47,
   "id": "c2ac4dfb",
   "metadata": {
    "hidden": true,
    "scrolled": true
   },
   "outputs": [
    {
     "name": "stdout",
     "output_type": "stream",
     "text": [
      "LR:0.8833333333333333\n",
      "LDA:0.91\n",
      "KNN:0.9233333333333333\n",
      "CART:0.83\n",
      "NB:0.8533333333333334\n",
      "SVM:0.6933333333333332\n"
     ]
    }
   ],
   "source": [
    "from sklearn.model_selection import train_test_split\n",
    "X_train, X_validation, Y_train, Y_validation = train_test_split(X,y,test_size = 0.20, random_state =1)\n",
    "\n",
    "\n",
    "    \n",
    "results = []\n",
    "name = []\n",
    "models = []\n",
    "score =[]\n",
    "models.append(('LR', LogisticRegression(solver='liblinear', multi_class='ovr')))\n",
    "models.append(('LDA', LinearDiscriminantAnalysis()))\n",
    "models.append(('KNN', KNeighborsClassifier()))\n",
    "models.append(('CART', DecisionTreeClassifier()))\n",
    "models.append(('NB', GaussianNB()))\n",
    "models.append(('SVM', SVC(gamma='auto')))\n",
    "\n",
    "for name, model in models:\n",
    "    model.fit(X_train,Y_train)\n",
    "\n",
    "for name, model in models:\n",
    "    kfolds = StratifiedKFold(n_splits=15,random_state=1, shuffle=True)\n",
    "    validation = cross_val_score(model, X_train, Y_train, cv=kfolds, scoring='accuracy')\n",
    "    results.append(name)\n",
    "    score.append(validation)\n",
    "    print(f\"{name}:{validation.mean()}\")\n",
    "    "
   ]
  },
  {
   "cell_type": "markdown",
   "id": "2e40d65c",
   "metadata": {
    "hidden": true
   },
   "source": [
    "I chose the best performing model and applied it to the testing array with the following results:"
   ]
  },
  {
   "cell_type": "code",
   "execution_count": 8,
   "id": "2859c8da",
   "metadata": {
    "hidden": true
   },
   "outputs": [
    {
     "name": "stdout",
     "output_type": "stream",
     "text": [
      "0.8823529411764706\n",
      "[[ 4  2]\n",
      " [ 0 11]]\n",
      "              precision    recall  f1-score   support\n",
      "\n",
      "    Fighting       1.00      0.67      0.80         6\n",
      "     Psychic       0.85      1.00      0.92        11\n",
      "\n",
      "    accuracy                           0.88        17\n",
      "   macro avg       0.92      0.83      0.86        17\n",
      "weighted avg       0.90      0.88      0.88        17\n",
      "\n"
     ]
    }
   ],
   "source": [
    "model = KNeighborsClassifier()\n",
    "model.fit(X_train,Y_train)\n",
    "predictions = model.predict(X_validation)\n",
    "print(accuracy_score(Y_validation, predictions))\n",
    "print(confusion_matrix(Y_validation, predictions))\n",
    "print(classification_report(Y_validation, predictions))"
   ]
  },
  {
   "cell_type": "code",
   "execution_count": null,
   "id": "44511f94",
   "metadata": {
    "hidden": true
   },
   "outputs": [],
   "source": []
  }
 ],
 "metadata": {
  "kernelspec": {
   "display_name": "Python 3 (ipykernel)",
   "language": "python",
   "name": "python3"
  },
  "language_info": {
   "codemirror_mode": {
    "name": "ipython",
    "version": 3
   },
   "file_extension": ".py",
   "mimetype": "text/x-python",
   "name": "python",
   "nbconvert_exporter": "python",
   "pygments_lexer": "ipython3",
   "version": "3.11.0"
  }
 },
 "nbformat": 4,
 "nbformat_minor": 5
}
